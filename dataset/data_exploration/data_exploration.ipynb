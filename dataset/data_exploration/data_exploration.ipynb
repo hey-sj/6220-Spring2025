{
 "cells": [
  {
   "cell_type": "code",
   "execution_count": 4,
   "metadata": {},
   "outputs": [],
   "source": [
    "import pandas as pd\n",
    "import numpy as np\n",
    "import matplotlib.pyplot as plt\n",
    "import seaborn as sns\n",
    "import os\n",
    "import cv2\n",
    "from skimage.feature import greycomatrix, greycoprops, local_binary_pattern\n",
    "from tqdm import tqdm\n",
    "from sklearn.preprocessing import StandardScaler\n",
    "from sklearn.model_selection import train_test_split\n",
    "from sklearn.linear_model import LogisticRegression\n",
    "from sklearn.metrics import classification_report, confusion_matrix"
   ]
  },
  {
   "cell_type": "code",
   "execution_count": 2,
   "metadata": {},
   "outputs": [],
   "source": [
    "PART1 = \"..\\HAM10000_images_part_1\"\n",
    "PART2 = \"..\\HAM10000_images_part_2\""
   ]
  },
  {
   "cell_type": "code",
   "execution_count": 3,
   "metadata": {},
   "outputs": [],
   "source": [
    "file_paths = []\n",
    "for folder in [PART1, PART2]:\n",
    "    file_paths += [os.path.join(folder, f) for f in os.listdir(folder) if f.endswith(('.jpg', '.png'))]"
   ]
  },
  {
   "cell_type": "code",
   "execution_count": 9,
   "metadata": {},
   "outputs": [],
   "source": [
    "def extract_glcm_features(image, distances=[1], angles=[0, np.pi/4, np.pi/2, 3*np.pi/4]):\n",
    "    # Convert to grayscale if necessary\n",
    "    if len(image.shape) == 3:\n",
    "        image = cv2.cvtColor(image, cv2.COLOR_BGR2GRAY)\n",
    "\n",
    "    # Normalize image to 8-bit (if not already)\n",
    "    image = cv2.normalize(image, None, 0, 255, cv2.NORM_MINMAX).astype(np.uint8)\n",
    "\n",
    "    # Compute GLCM\n",
    "    glcm = greycomatrix(image, distances=distances, angles=angles, levels=256, symmetric=True, normed=True)\n",
    "\n",
    "    # Extract statistical properties\n",
    "    contrast = greycoprops(glcm, 'contrast').mean()\n",
    "    dissimilarity = greycoprops(glcm, 'dissimilarity').mean()\n",
    "    homogeneity = greycoprops(glcm, 'homogeneity').mean()\n",
    "    energy = greycoprops(glcm, 'energy').mean()\n",
    "    correlation = greycoprops(glcm, 'correlation').mean()\n",
    "\n",
    "    return [contrast, dissimilarity, homogeneity, energy, correlation]"
   ]
  },
  {
   "cell_type": "code",
   "execution_count": 10,
   "metadata": {},
   "outputs": [
    {
     "name": "stderr",
     "output_type": "stream",
     "text": [
      "Extracting GLCM features: 100%|██████████| 10015/10015 [14:28<00:00, 11.54it/s]\n"
     ]
    }
   ],
   "source": [
    "glcm = []\n",
    "\n",
    "for file in tqdm(file_paths, desc=\"Extracting GLCM features\"):\n",
    "    try:\n",
    "        img = cv2.imread(file)\n",
    "        if img is not None:\n",
    "            features = extract_glcm_features(img)\n",
    "            # Include folder name to track the source\n",
    "            folder = os.path.basename(os.path.dirname(file))\n",
    "            glcm.append([file, folder] + features)\n",
    "    except Exception as e:\n",
    "        print(f\"Error processing {file}: {e}\")"
   ]
  },
  {
   "cell_type": "code",
   "execution_count": 11,
   "metadata": {},
   "outputs": [],
   "source": [
    "columns = ['file_name', 'folder', 'contrast', 'dissimilarity', 'homogeneity', 'energy', 'correlation']\n",
    "df = pd.DataFrame(glcm, columns=columns)\n",
    "\n",
    "# Save to CSV\n",
    "df.to_csv('glcm_features.csv', index=False)\n",
    "\n",
    "# Save to Pickle (optional for faster loading)\n",
    "df.to_pickle('glcm_features.pkl')"
   ]
  },
  {
   "cell_type": "code",
   "execution_count": 5,
   "metadata": {},
   "outputs": [],
   "source": [
    "def extract_lbp_features(image, P=8, R=1, method='uniform'):\n",
    "    # Convert to grayscale if necessary\n",
    "    if len(image.shape) == 3:\n",
    "        image = cv2.cvtColor(image, cv2.COLOR_BGR2GRAY)\n",
    "\n",
    "    # Normalize image to 8-bit (if not already)\n",
    "    image = cv2.normalize(image, None, 0, 255, cv2.NORM_MINMAX).astype(np.uint8)\n",
    "\n",
    "    # Compute LBP\n",
    "    lbp = local_binary_pattern(image, P=P, R=R, method=method)\n",
    "    \n",
    "    # Generate histogram of LBP values\n",
    "    (hist, _) = np.histogram(lbp.ravel(), bins=np.arange(0, P + 3), range=(0, P + 2))\n",
    "\n",
    "    # Normalize the histogram\n",
    "    hist = hist.astype(\"float\")\n",
    "    hist /= hist.sum()\n",
    "\n",
    "    return hist.tolist()"
   ]
  },
  {
   "cell_type": "code",
   "execution_count": 6,
   "metadata": {},
   "outputs": [
    {
     "name": "stderr",
     "output_type": "stream",
     "text": [
      "Extracting LBP features: 100%|██████████| 10015/10015 [26:53<00:00,  6.21it/s] \n"
     ]
    }
   ],
   "source": [
    "lbp = []\n",
    "\n",
    "for file in tqdm(file_paths, desc=\"Extracting LBP features\"):\n",
    "    try:\n",
    "        img = cv2.imread(file)\n",
    "        if img is not None:\n",
    "            features = extract_lbp_features(img)\n",
    "            # Include folder name to track the source\n",
    "            folder = os.path.basename(os.path.dirname(file))\n",
    "            lbp.append([file, folder] + features)\n",
    "    except Exception as e:\n",
    "        print(f\"Error processing {file}: {e}\")"
   ]
  },
  {
   "cell_type": "code",
   "execution_count": 7,
   "metadata": {},
   "outputs": [],
   "source": [
    "columns = ['file_name', 'folder'] + [f'lbp_{i}' for i in range(len(lbp[0]) - 2)]\n",
    "df = pd.DataFrame(lbp, columns=columns)\n",
    "\n",
    "# Save to CSV\n",
    "df.to_csv('combined_lbp_features.csv', index=False)"
   ]
  },
  {
   "cell_type": "code",
   "execution_count": 8,
   "metadata": {},
   "outputs": [],
   "source": [
    "def extract_color_variance(image):\n",
    "    # Convert to RGB if image is in BGR format (OpenCV default)\n",
    "    image = cv2.cvtColor(image, cv2.COLOR_BGR2RGB)\n",
    "    \n",
    "    # Split channels (R, G, B)\n",
    "    r, g, b = cv2.split(image)\n",
    "    \n",
    "    # Mean values\n",
    "    mean_r = np.mean(r)\n",
    "    mean_g = np.mean(g)\n",
    "    mean_b = np.mean(b)\n",
    "    \n",
    "    # Variance values\n",
    "    var_r = np.var(r)\n",
    "    var_g = np.var(g)\n",
    "    var_b = np.var(b)\n",
    "    \n",
    "    # Overall variance (across all channels)\n",
    "    overall_var = np.var(image)\n",
    "    \n",
    "    return [mean_r, mean_g, mean_b, var_r, var_g, var_b, overall_var]"
   ]
  },
  {
   "cell_type": "code",
   "execution_count": null,
   "metadata": {},
   "outputs": [],
   "source": [
    "variance = []\n",
    "\n",
    "for file in tqdm(file_paths, desc=\"Extracting color variance features\"):\n",
    "    try:\n",
    "        img = cv2.imread(file)\n",
    "        if img is not None:\n",
    "            features = extract_color_variance(img)\n",
    "            # Include folder name to track the source\n",
    "            folder = os.path.basename(os.path.dirname(file))\n",
    "            variance.append([file, folder] + features)\n",
    "    except Exception as e:\n",
    "        print(f\"Error processing {file}: {e}\")"
   ]
  }
 ],
 "metadata": {
  "kernelspec": {
   "display_name": "base",
   "language": "python",
   "name": "python3"
  },
  "language_info": {
   "codemirror_mode": {
    "name": "ipython",
    "version": 3
   },
   "file_extension": ".py",
   "mimetype": "text/x-python",
   "name": "python",
   "nbconvert_exporter": "python",
   "pygments_lexer": "ipython3",
   "version": "3.9.7"
  }
 },
 "nbformat": 4,
 "nbformat_minor": 2
}
